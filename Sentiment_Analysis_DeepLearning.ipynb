{
  "nbformat": 4,
  "nbformat_minor": 0,
  "metadata": {
    "colab": {
      "name": "Sentiment Analysis-DeepLearning.ipynb",
      "provenance": []
    },
    "kernelspec": {
      "name": "python3",
      "display_name": "Python 3"
    }
  },
  "cells": [
    {
      "cell_type": "code",
      "metadata": {
        "id": "o8tON94FqY3O",
        "colab_type": "code",
        "colab": {}
      },
      "source": [
        "import pandas as pd\n",
        "from keras.datasets import imdb\n",
        "import numpy as np\n",
        "import matplotlib.pyplot as plt "
      ],
      "execution_count": 0,
      "outputs": []
    },
    {
      "cell_type": "code",
      "metadata": {
        "id": "rdZLyjRyJUgB",
        "colab_type": "code",
        "colab": {
          "base_uri": "https://localhost:8080/",
          "height": 51
        },
        "outputId": "b627eb7e-fc3b-471f-c697-dcd99e0933b7"
      },
      "source": [
        "(X_train, y_train), (X_test,y_test) = imdb.load_data()"
      ],
      "execution_count": 4,
      "outputs": [
        {
          "output_type": "stream",
          "text": [
            "Downloading data from https://s3.amazonaws.com/text-datasets/imdb.npz\n",
            "17465344/17464789 [==============================] - 1s 0us/step\n"
          ],
          "name": "stdout"
        }
      ]
    },
    {
      "cell_type": "code",
      "metadata": {
        "id": "XfaiUBziJ7ov",
        "colab_type": "code",
        "colab": {
          "base_uri": "https://localhost:8080/",
          "height": 34
        },
        "outputId": "feac0fe3-c3c0-4b9b-bd38-b2070b677ac8"
      },
      "source": [
        "(X_train.shape, y_train.shape), (X_test.shape,y_test.shape)"
      ],
      "execution_count": 5,
      "outputs": [
        {
          "output_type": "execute_result",
          "data": {
            "text/plain": [
              "(((25000,), (25000,)), ((25000,), (25000,)))"
            ]
          },
          "metadata": {
            "tags": []
          },
          "execution_count": 5
        }
      ]
    },
    {
      "cell_type": "code",
      "metadata": {
        "id": "7fvWNFJAKFPP",
        "colab_type": "code",
        "colab": {}
      },
      "source": [
        "X = np.concatenate((X_train,y_train),axis=0)\n",
        "y = np.concatenate((X_test, y_test),axis=0)"
      ],
      "execution_count": 0,
      "outputs": []
    },
    {
      "cell_type": "code",
      "metadata": {
        "id": "icw63LCCMpvb",
        "colab_type": "code",
        "colab": {
          "base_uri": "https://localhost:8080/",
          "height": 34
        },
        "outputId": "5ae82d8e-a87c-4d2a-93d0-4ea033249a23"
      },
      "source": [
        "(X.shape,y.shape)"
      ],
      "execution_count": 10,
      "outputs": [
        {
          "output_type": "execute_result",
          "data": {
            "text/plain": [
              "((50000,), (50000,))"
            ]
          },
          "metadata": {
            "tags": []
          },
          "execution_count": 10
        }
      ]
    },
    {
      "cell_type": "code",
      "metadata": {
        "id": "S1k_rDODMqVR",
        "colab_type": "code",
        "colab": {
          "base_uri": "https://localhost:8080/",
          "height": 34
        },
        "outputId": "14a3dc99-8f13-40d5-9f16-68bb1d3e0775"
      },
      "source": [
        "#number of words\n",
        "print(np.unique(np.hstack(X)))"
      ],
      "execution_count": 13,
      "outputs": [
        {
          "output_type": "stream",
          "text": [
            "[    0     1     2 ... 88584 88585 88586]\n"
          ],
          "name": "stdout"
        }
      ]
    },
    {
      "cell_type": "code",
      "metadata": {
        "id": "qsAI9KIHUAdf",
        "colab_type": "code",
        "colab": {}
      },
      "source": [
        "obj = pd.DataFrame(y)"
      ],
      "execution_count": 0,
      "outputs": []
    },
    {
      "cell_type": "code",
      "metadata": {
        "id": "vkZ2mvJ0T2-w",
        "colab_type": "code",
        "colab": {
          "base_uri": "https://localhost:8080/",
          "height": 51
        },
        "outputId": "f305a707-7454-46c4-f887-4f1476602c21"
      },
      "source": [
        "#review length\n",
        "result = [len(X) for x in X]\n",
        "print(\"Mean:\",np.mean(result))\n",
        "print(\"StandardDeviation:\",np.std(result))"
      ],
      "execution_count": 23,
      "outputs": [
        {
          "output_type": "stream",
          "text": [
            "Mean: 50000.0\n",
            "StandardDeviation: 0.0\n"
          ],
          "name": "stdout"
        }
      ]
    },
    {
      "cell_type": "code",
      "metadata": {
        "id": "JW3zbDKHVElq",
        "colab_type": "code",
        "colab": {
          "base_uri": "https://localhost:8080/",
          "height": 265
        },
        "outputId": "ac60798a-7008-4a51-efa8-3c5e436546b1"
      },
      "source": [
        "#Plot review length\n",
        "plt.boxplot(result)\n",
        "plt.show()"
      ],
      "execution_count": 21,
      "outputs": [
        {
          "output_type": "display_data",
          "data": {
            "image/png": "[encoded data removed]",
            "text/plain": [
              "<Figure size 432x288 with 1 Axes>"
            ]
          },
          "metadata": {
            "tags": [],
            "needs_background": "light"
          }
        }
      ]
    },
    {
      "cell_type": "code",
      "metadata": {
        "id": "DQP3bRl_Vmoa",
        "colab_type": "code",
        "colab": {}
      },
      "source": [
        "from keras.models import Sequential\n",
        "from keras.layers import Dense, Flatten\n",
        "from keras.preprocessing import sequence \n",
        "from keras.layers.embeddings import Embedding"
      ],
      "execution_count": 0,
      "outputs": []
    },
    {
      "cell_type": "code",
      "metadata": {
        "id": "fNqfJVNzV9DP",
        "colab_type": "code",
        "colab": {
          "base_uri": "https://localhost:8080/",
          "height": 88
        },
        "outputId": "4dedfebb-7d6b-4726-8fda-85a86b2c4635"
      },
      "source": [
        "#Word Embedding\n",
        "imdb.load_data(nb_words=5000)\n",
        "X_train = sequence.pad_sequences(X_train, maxlen=500)\n",
        "X_test = sequence.pad_sequences(X_test, maxlen=500)\n",
        "Embedding(5000,32,input_length=500)"
      ],
      "execution_count": 25,
      "outputs": [
        {
          "output_type": "stream",
          "text": [
            "/usr/local/lib/python3.6/dist-packages/keras/datasets/imdb.py:49: UserWarning: The `nb_words` argument in `load_data` has been renamed `num_words`.\n",
            "  warnings.warn('The `nb_words` argument in `load_data` '\n"
          ],
          "name": "stderr"
        },
        {
          "output_type": "execute_result",
          "data": {
            "text/plain": [
              "<keras.layers.embeddings.Embedding at 0x7f6d850f8cf8>"
            ]
          },
          "metadata": {
            "tags": []
          },
          "execution_count": 25
        }
      ]
    },
    {
      "cell_type": "code",
      "metadata": {
        "id": "PYP_Ic4fb46W",
        "colab_type": "code",
        "colab": {}
      },
      "source": [
        "top_words= 5000\n",
        "(X_train, y_train), (X_test,y_test) = imdb.load_data(num_words=top_words)"
      ],
      "execution_count": 0,
      "outputs": []
    },
    {
      "cell_type": "code",
      "metadata": {
        "id": "vB6WTPFtcUDR",
        "colab_type": "code",
        "colab": {
          "base_uri": "https://localhost:8080/",
          "height": 428
        },
        "outputId": "1b92653c-055e-4159-f07c-3fc183301516"
      },
      "source": [
        "max_words = 500\n",
        "X_train = sequence.pad_sequences(X_train, maxlen=500)\n",
        "X_test = sequence.pad_sequences(X_test, maxlen=500)\n",
        "#Instantiate the model\n",
        "model = Sequential()\n",
        "#Model architecture\n",
        "model.add(Embedding(top_words,32,input_length=max_words))\n",
        "model.add(Flatten())\n",
        "model.add(Dense(250,activation='relu'))\n",
        "model.add(Dense(1,activation='sigmoid'))\n",
        "#Compilation\n",
        "model.compile(loss=\"binary_crossentropy\", optimizer=\"adam\",metrics=[\"accuracy\"])\n",
        "model.summary()\n",
        "#Model fit\n",
        "model.fit(X_train,y_train,validation_data=(X_test,y_test),epochs=2,batch_size=128,verbose=2)\n",
        "#Evaluation\n",
        "scores = model.evaluate(X_test,y_test,verbose=0)\n",
        "#Print the accuracy\n",
        "print(\"Accuracy:%.2f%%\" %(scores[1]*100))#Accuracy:87.93%"
      ],
      "execution_count": 28,
      "outputs": [
        {
          "output_type": "stream",
          "text": [
            "Model: \"sequential_2\"\n",
            "_________________________________________________________________\n",
            "Layer (type)                 Output Shape              Param #   \n",
            "=================================================================\n",
            "embedding_2 (Embedding)      (None, 500, 32)           160000    \n",
            "_________________________________________________________________\n",
            "flatten_1 (Flatten)          (None, 16000)             0         \n",
            "_________________________________________________________________\n",
            "dense_1 (Dense)              (None, 250)               4000250   \n",
            "_________________________________________________________________\n",
            "dense_2 (Dense)              (None, 1)                 251       \n",
            "=================================================================\n",
            "Total params: 4,160,501\n",
            "Trainable params: 4,160,501\n",
            "Non-trainable params: 0\n",
            "_________________________________________________________________\n"
          ],
          "name": "stdout"
        },
        {
          "output_type": "stream",
          "text": [
            "/usr/local/lib/python3.6/dist-packages/tensorflow/python/framework/indexed_slices.py:434: UserWarning: Converting sparse IndexedSlices to a dense Tensor of unknown shape. This may consume a large amount of memory.\n",
            "  \"Converting sparse IndexedSlices to a dense Tensor of unknown shape. \"\n"
          ],
          "name": "stderr"
        },
        {
          "output_type": "stream",
          "text": [
            "Train on 25000 samples, validate on 25000 samples\n",
            "Epoch 1/2\n",
            " - 28s - loss: 0.5512 - accuracy: 0.6856 - val_loss: 0.3059 - val_accuracy: 0.8685\n",
            "Epoch 2/2\n",
            " - 28s - loss: 0.2150 - accuracy: 0.9145 - val_loss: 0.2883 - val_accuracy: 0.8793\n"
          ],
          "name": "stdout"
        }
      ]
    },
    {
      "cell_type": "code",
      "metadata": {
        "id": "ioVfDfrZezJY",
        "colab_type": "code",
        "colab": {
          "base_uri": "https://localhost:8080/",
          "height": 785
        },
        "outputId": "e3e9b701-c18d-4f3c-81a9-c2963ab499ed"
      },
      "source": [
        "#1-D CNN\n",
        "from keras.layers import MaxPool1D\n",
        "top_words=5000\n",
        "max_words=500\n",
        "#Instantiate the model\n",
        "model = Sequential()\n",
        "#Model architecture\n",
        "model.add(Embedding(top_words,32,input_length=max_words))\n",
        "model.add(MaxPool1D())\n",
        "model.add(Flatten())\n",
        "model.add(Dense(250,activation='relu'))\n",
        "model.add(Dense(250,activation='relu'))\n",
        "model.add(Dense(1,activation='sigmoid'))\n",
        "#Compilation\n",
        "model.compile(loss=\"binary_crossentropy\", optimizer=\"adam\",metrics=[\"accuracy\"])\n",
        "model.summary()\n",
        "#Model fit\n",
        "model.fit(X_train,y_train,validation_data=(X_test,y_test),epochs=10,batch_size=128,verbose=2)\n",
        "#Evaluation\n",
        "scores = model.evaluate(X_test,y_test,verbose=0)\n",
        "#Print the accuracy\n",
        "print(\"Accuracy:%.2f%%\" %(scores[1]*100))"
      ],
      "execution_count": 33,
      "outputs": [
        {
          "output_type": "stream",
          "text": [
            "Model: \"sequential_6\"\n",
            "_________________________________________________________________\n",
            "Layer (type)                 Output Shape              Param #   \n",
            "=================================================================\n",
            "embedding_6 (Embedding)      (None, 500, 32)           160000    \n",
            "_________________________________________________________________\n",
            "max_pooling1d_3 (MaxPooling1 (None, 250, 32)           0         \n",
            "_________________________________________________________________\n",
            "flatten_4 (Flatten)          (None, 8000)              0         \n",
            "_________________________________________________________________\n",
            "dense_7 (Dense)              (None, 250)               2000250   \n",
            "_________________________________________________________________\n",
            "dense_8 (Dense)              (None, 250)               62750     \n",
            "_________________________________________________________________\n",
            "dense_9 (Dense)              (None, 1)                 251       \n",
            "=================================================================\n",
            "Total params: 2,223,251\n",
            "Trainable params: 2,223,251\n",
            "Non-trainable params: 0\n",
            "_________________________________________________________________\n"
          ],
          "name": "stdout"
        },
        {
          "output_type": "stream",
          "text": [
            "/usr/local/lib/python3.6/dist-packages/tensorflow/python/framework/indexed_slices.py:434: UserWarning: Converting sparse IndexedSlices to a dense Tensor of unknown shape. This may consume a large amount of memory.\n",
            "  \"Converting sparse IndexedSlices to a dense Tensor of unknown shape. \"\n"
          ],
          "name": "stderr"
        },
        {
          "output_type": "stream",
          "text": [
            "Train on 25000 samples, validate on 25000 samples\n",
            "Epoch 1/10\n",
            " - 17s - loss: 0.4995 - accuracy: 0.7078 - val_loss: 0.2884 - val_accuracy: 0.8792\n",
            "Epoch 2/10\n",
            " - 17s - loss: 0.1860 - accuracy: 0.9302 - val_loss: 0.3211 - val_accuracy: 0.8683\n",
            "Epoch 3/10\n",
            " - 17s - loss: 0.0562 - accuracy: 0.9834 - val_loss: 0.4691 - val_accuracy: 0.8603\n",
            "Epoch 4/10\n",
            " - 17s - loss: 0.0152 - accuracy: 0.9961 - val_loss: 0.6434 - val_accuracy: 0.8528\n",
            "Epoch 5/10\n",
            " - 17s - loss: 0.0035 - accuracy: 0.9992 - val_loss: 0.8028 - val_accuracy: 0.8588\n",
            "Epoch 6/10\n",
            " - 17s - loss: 5.8966e-04 - accuracy: 1.0000 - val_loss: 0.8484 - val_accuracy: 0.8620\n",
            "Epoch 7/10\n",
            " - 17s - loss: 9.6909e-05 - accuracy: 1.0000 - val_loss: 0.8899 - val_accuracy: 0.8634\n",
            "Epoch 8/10\n",
            " - 17s - loss: 4.8543e-05 - accuracy: 1.0000 - val_loss: 0.9339 - val_accuracy: 0.8644\n",
            "Epoch 9/10\n",
            " - 17s - loss: 2.5180e-05 - accuracy: 1.0000 - val_loss: 0.9805 - val_accuracy: 0.8659\n",
            "Epoch 10/10\n",
            " - 17s - loss: 1.3702e-05 - accuracy: 1.0000 - val_loss: 1.0213 - val_accuracy: 0.8659\n",
            "Accuracy:86.59%\n"
          ],
          "name": "stdout"
        }
      ]
    }
  ]
}